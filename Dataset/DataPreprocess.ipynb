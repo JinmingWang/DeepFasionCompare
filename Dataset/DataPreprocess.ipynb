{
 "cells": [
  {
   "cell_type": "code",
   "execution_count": null,
   "id": "initial_id",
   "metadata": {
    "collapsed": true
   },
   "outputs": [],
   "source": [
    "import cv2\n",
    "import numpy as np"
   ]
  },
  {
   "cell_type": "code",
   "execution_count": null,
   "outputs": [],
   "source": [],
   "metadata": {
    "collapsed": false
   },
   "id": "cfadb2e71e3c4cf6"
  },
  {
   "cell_type": "code",
   "execution_count": null,
   "outputs": [],
   "source": [
    "img_folder = \"E:/Data/deepfasion/train_test_256/train\"\n",
    "pth_folder = \"E:/Data/deepfasion/train_test_256/pth_train\""
   ],
   "metadata": {
    "collapsed": false
   },
   "id": "60f96cb20761676"
  },
  {
   "cell_type": "markdown",
   "source": [
    "1. 循环加载并读取所有图片，然后检查图片的尺寸是否全部一致\n",
    "2. 在接下来搭建神经网络训练的流水线时，需要加载图像，然后把图像转化成torch.Tensor，但是如果图像原封不动为jpg格式，那么每次加载都要加载jpg->转换成numpy->转换成cuda Tensor。并且我们会训练多个epoch，每个epoch所有图片都要像这里说的这样处理一遍，训练E个epoch就要加载、转换E遍。所以可以先全把图像加载了，转换成torch.Tensor然后存成.pth文件。每次一加载直接是torch.Tensor，只需要cuda一下就好了。在此过程中，可以先把normalization等等预处理步骤先做了，这样加载图像时，这个tensor直接是可以送进神经网络的状态 (torch.Tensor, float32)。因为要考虑内存能不能放得下。如果能放下，就直接存成一个文件。如果放不下，意味着内存不支持直接读取这个数据集文件，可以每个图片存一个.pth文件，.pth文件和.jpg文件的区别在于.pth存储的是一个预处理后的torch.Tensor。\n",
    "3. 文件夹Dataset存储所有数据相关的文件，完成数据加载器DFCDataset.py\n",
    "4. 文件夹Models存储神经网络相关的文件\n",
    "5. 文件夹Runs用来存储将来可能会有的训练日志以及训练存的模型"
   ],
   "metadata": {
    "collapsed": false
   },
   "id": "7fd371504e6e318d"
  },
  {
   "cell_type": "code",
   "execution_count": 4,
   "outputs": [
    {
     "name": "stdout",
     "output_type": "stream",
     "text": [
      "Storage need 20.4400634765625 GB\n"
     ]
    }
   ],
   "source": [
    "# 总共需要多少存储空间？\n",
    "n_imgs = 37210\n",
    "n_floats_per_img = 192 * 256 * 3\n",
    "n_bytes_per_float = 4\n",
    "\n",
    "n_bytes = n_imgs * n_floats_per_img * n_bytes_per_float\n",
    "\n",
    "print(f\"Storage need {n_bytes/1024/1024/1024} GB\")"
   ],
   "metadata": {
    "collapsed": false,
    "ExecuteTime": {
     "end_time": "2024-02-26T23:45:57.150059100Z",
     "start_time": "2024-02-26T23:45:57.131885300Z"
    }
   },
   "id": "d32bdda4c89fed8f"
  },
  {
   "cell_type": "code",
   "execution_count": 3,
   "outputs": [
    {
     "data": {
      "text/plain": "0.5625"
     },
     "execution_count": 3,
     "metadata": {},
     "output_type": "execute_result"
    }
   ],
   "source": [
    "n_floats_per_img * n_bytes_per_float / 1024 / 1024"
   ],
   "metadata": {
    "collapsed": false,
    "ExecuteTime": {
     "end_time": "2024-02-26T23:45:31.392410900Z",
     "start_time": "2024-02-26T23:45:31.378776700Z"
    }
   },
   "id": "fbf32bcdea105dc9"
  },
  {
   "cell_type": "markdown",
   "source": [],
   "metadata": {
    "collapsed": false
   },
   "id": "46c471dcc6a0ed57"
  },
  {
   "cell_type": "code",
   "execution_count": null,
   "outputs": [],
   "source": [
    "# 循环目录里的所有图片\n",
    "\n",
    "# 把图片转换成torch.Tensor, float32, (C, H, W), 取值-1到1区间格式\n",
    "\n",
    "# 保存到 10位id表示衣服_该衣服的第几张图片.pth 文件"
   ],
   "metadata": {
    "collapsed": false
   },
   "id": "b5742ff0a9204ff7"
  }
 ],
 "metadata": {
  "kernelspec": {
   "display_name": "Python 3",
   "language": "python",
   "name": "python3"
  },
  "language_info": {
   "codemirror_mode": {
    "name": "ipython",
    "version": 2
   },
   "file_extension": ".py",
   "mimetype": "text/x-python",
   "name": "python",
   "nbconvert_exporter": "python",
   "pygments_lexer": "ipython2",
   "version": "2.7.6"
  }
 },
 "nbformat": 4,
 "nbformat_minor": 5
}
